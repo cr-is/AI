{
 "cells": [
  {
   "cell_type": "code",
   "execution_count": null,
   "metadata": {},
   "outputs": [],
   "source": [
    "# Set the kernel manually\n",
    "%matplotlib inline\n",
    "%load_ext autoreload\n",
    "%autoreload 2\n"
   ]
  },
  {
   "cell_type": "markdown",
   "metadata": {},
   "source": [
    "dependencies"
   ]
  },
  {
   "cell_type": "code",
   "execution_count": null,
   "metadata": {},
   "outputs": [],
   "source": [
    "!pip install demucs\n",
    "!pip install soundfile\n",
    "!pip install librosa"
   ]
  },
  {
   "cell_type": "markdown",
   "metadata": {},
   "source": [
    "imports\n",
    "\n"
   ]
  },
  {
   "cell_type": "code",
   "execution_count": null,
   "metadata": {},
   "outputs": [],
   "source": [
    "import os\n",
    "import soundfile\n",
    "import librosa\n",
    "import glob\n",
    "import tqdm"
   ]
  },
  {
   "cell_type": "markdown",
   "metadata": {},
   "source": [
    "setting paths\n"
   ]
  },
  {
   "cell_type": "code",
   "execution_count": null,
   "metadata": {},
   "outputs": [],
   "source": [
    "songs_path = \"/content/drive/MyDrive/songs\"\n",
    "vocals_path = \"/content/drive/MyDrive/vocals\"\n",
    "# Create directories if they do not exist\n",
    "if not os.path.exists(songs_path):\n",
    "    os.makedirs(songs_path)\n",
    "\n",
    "if not os.path.exists(vocals_path):\n",
    "    os.makedirs(vocals_path)"
   ]
  },
  {
   "cell_type": "markdown",
   "metadata": {},
   "source": [
    "extract vocals\n"
   ]
  },
  {
   "cell_type": "code",
   "execution_count": null,
   "metadata": {
    "vscode": {
     "languageId": "plaintext"
    }
   },
   "outputs": [],
   "source": [
    "ctr = 0 \n",
    "model = \"mdx_extra_q\"\n",
    "for audio_file in tqdm.tqdm(os.listdir(songs_path)):\n",
    "    !demucs -n mdx_extra_q --two-stems=vocals \"{os.path.join(songs_path, audio_file)}\" -o {vocals_path}\n",
    "    vocal_name=f\"vocal_{ctr}.wav\"\n",
    "    song_name = os.path.splitext(audio_file)[0]\n",
    "    \n",
    "    !mv \"{os.path.join(vocals_path, model, song_name, 'vocals.wav')}\" \"{os.path.join(vocals_path, vocal_name)}\"\n",
    "    !rm -r \"{os.path.join(vocals_path, model, song_name)}/\"\n",
    "\n",
    "    ctr += 1"
   ]
  },
  {
   "cell_type": "markdown",
   "metadata": {},
   "source": [
    "class\n"
   ]
  },
  {
   "cell_type": "code",
   "execution_count": null,
   "metadata": {},
   "outputs": [],
   "source": [
    "import os\n",
    "import soundfile\n",
    "import librosa\n",
    "import glob\n",
    "import tqdm\n",
    "import numpy as np\n",
    "\n",
    "# Install dependencies if not already installed\n",
    "!pip install demucs\n",
    "!pip install soundfile\n",
    "!pip install librosa\n",
    "\n",
    "from demucs.separate import demucs_separator\n",
    "\n",
    "# Function to extract vocals from audio files\n",
    "def extract_vocals(songs_path, vocals_path):\n",
    "    ctr = 0 \n",
    "    model = \"mdx_extra_q\"\n",
    "    for audio_file in tqdm.tqdm(os.listdir(songs_path)):\n",
    "        separator = demucs_separator(model)\n",
    "        audio_path = os.path.join(songs_path, audio_file)\n",
    "        estimates = separator.separate(audio_path)\n",
    "        vocals = estimates['vocals']\n",
    "        vocal_name = f\"vocal_{ctr}.wav\"\n",
    "        song_name = os.path.splitext(audio_file)[0]\n",
    "        vocals.write(os.path.join(vocals_path, vocal_name))\n",
    "        ctr += 1\n",
    "\n",
    "# Function to split audio files at silences and remove silence\n",
    "class Slicer:\n",
    "    def __init__(self,\n",
    "                 sr: int,\n",
    "                 threshold: float = -40.,\n",
    "                 min_length: int = 5000,\n",
    "                 min_interval: int = 300,\n",
    "                 hop_size: int = 20,\n",
    "                 max_sil_kept: int = 5000):\n",
    "        # Constructor code...\n",
    "\n",
    "    def _apply_slice(self, waveform, begin, end):  # noqa: E999\n",
    "        # Method code...\n",
    "\n",
    "    def slice(self, waveform):\n",
    "        # Method code...\n",
    "\n",
    "def remove_silence_and_split(vocals_path, non_silence_audio):\n",
    "    if not os.path.exists(non_silence_audio):\n",
    "        os.makedirs(non_silence_audio)\n",
    "\n",
    "    for audio_path in os.listdir(vocals_path):\n",
    "        # Extract vocals from audio\n",
    "        audio_path = os.path.join(vocals_path, audio_path)\n",
    "        if len(os.path.basename(audio_path).split(\".\")) == 1: \n",
    "            continue\n",
    "        audio_name = os.path.basename(audio_path).split(\".\")[0]\n",
    "        audio, sr = librosa.load(audio_path, sr=None, mono=False) \n",
    "        slicer = Slicer(\n",
    "            sr=sr,\n",
    "            threshold=-25,\n",
    "            min_length=7000,\n",
    "            min_interval=600,\n",
    "            hop_size=15,\n",
    "            max_sil_kept=700\n",
    "        )\n",
    "        chunks = slicer.slice(audio)\n",
    "        for i, chunk in enumerate(chunks):\n",
    "            if len(chunk.shape) > 1:\n",
    "                chunk = chunk.T  # Swap axes if the audio is stereo.\n",
    "            soundfile.write(os.path.join(non_silence_audio,f'{audio_name}_{i}.wav'), chunk, sr)  \n",
    "\n",
    "def split_audio_into_clips(non_silence_audio, min_length=6):\n",
    "    sliced_dir = \"/content/drive/MyDrive/sliced/\"\n",
    "    if not os.path.exists(sliced_dir):\n",
    "        os.makedirs(sliced_dir)\n",
    "\n",
    "    print(f\"Slicing audios to clips of {min_length} seconds\")\n",
    "    cnt = 0\n",
    "    for file in tqdm(os.listdir(non_silence_audio)):\n",
    "        if file.endswith('.wav'):        \n",
    "            audio_name = file.split('.')[0]\n",
    "            audio_path = os.path.join(non_silence_audio, file)\n",
    "            audio, sr = librosa.load(audio_path)\n",
    "\n",
    "            min_samples = int(min_length * sr)\n",
    "\n",
    "            segments = []\n",
    "            segment_start = 0\n",
    "            while segment_start + min_samples < len(audio):\n",
    "                segment_end = segment_start + min_samples\n",
    "                segments.append(audio[segment_start:segment_end])\n",
    "                segment_start = segment_end\n",
    "\n",
    "            for i, segment in enumerate(segments):\n",
    "                segment_path = os.path.join(sliced_dir,f'segments_{audio_name}_{cnt}.wav')\n",
    "                cnt += 1\n",
    "                soundfile.write(segment_path, segment, sr)\n",
    "\n",
    "# Set paths\n",
    "songs_path = \"/content/drive/MyDrive/songs\"\n",
    "vocals_path = \"/content/drive/MyDrive/vocals\"\n",
    "non_silence_audio = \"/content/drive/MyDrive/non_silenced/\"\n",
    "\n",
    "# Extract vocals\n",
    "extract_vocals(songs_path, vocals_path)\n",
    "\n",
    "# Remove silence and split audio\n",
    "remove_silence_and_split(vocals_path, non_silence_audio)\n",
    "\n",
    "# Split audio into clips\n",
    "split_audio_into_clips(non_silence_audio, min_length=6)\n"
   ]
  },
  {
   "cell_type": "markdown",
   "metadata": {},
   "source": [
    "split silence   "
   ]
  },
  {
   "cell_type": "code",
   "execution_count": null,
   "metadata": {},
   "outputs": [],
   "source": [
    "########       remove the silence from audio and split at that silence\n",
    "\n",
    "non_silence_audio = \"/content/drive/MyDrive/non_silenced/\"\n",
    "if not os.path.exists(non_silence_audio):\n",
    "    os.makedirs(non_silence_audio)\n",
    "\n",
    "for audio_path in os.listdir(vocals_path):\n",
    "    print(audio_path)\n",
    "    audio_path = os.path.join(vocals_path, audio_path)\n",
    "    if len(os.path.basename(audio_path).split(\".\")) == 1: \n",
    "      continue\n",
    "    audio_name = os.path.basename(audio_path).split(\".\")[0]\n",
    "    audio, sr = librosa.load(audio_path, sr=None, mono=False) \n",
    "    slicer = Slicer(\n",
    "        sr=sr,\n",
    "        threshold=-25,\n",
    "        min_length=7000,\n",
    "        min_interval=600,\n",
    "        hop_size=15,\n",
    "        max_sil_kept=700\n",
    "    )\n",
    "    chunks = slicer.slice(audio)\n",
    "    for i, chunk in enumerate(chunks):\n",
    "        if len(chunk.shape) > 1:\n",
    "            chunk = chunk.T  # Swap axes if the audio is stereo.\n",
    "\n",
    "        print(\"\\twrote: \"+os.path.join(non_silence_audio,f'{audio_name}_{i}.wav'))\n",
    "        soundfile.write(os.path.join(non_silence_audio,f'{audio_name}_{i}.wav'), chunk, sr)  # Save sliced audio files with soundfile.\n"
   ]
  },
  {
   "cell_type": "markdown",
   "metadata": {},
   "source": [
    "split to 6 seconds clips"
   ]
  },
  {
   "cell_type": "code",
   "execution_count": null,
   "metadata": {},
   "outputs": [],
   "source": [
    "#####       split audios in clips of 5 seconds for training\n",
    "from tqdm import tqdm\n",
    "\n",
    "# set parameters\n",
    "min_length = 6     # minimum length of each segment in seconds\n",
    "\n",
    "sliced_dir = \"/content/drive/MyDrive/sliced/\"\n",
    "# create output directory if it doesn't exist\n",
    "if not os.path.exists(sliced_dir):\n",
    "    os.makedirs(sliced_dir)\n",
    "\n",
    "print(f\"slicing audios to clips of {min_length}seconds\")\n",
    "cnt = 0\n",
    "# loop through all .mp3 files in original_audio directory\n",
    "for file in tqdm(os.listdir(non_silence_audio)):\n",
    "    if file.endswith('.wav'):        \n",
    "        # load audio file\n",
    "        audio_name = file.split('.')[0]\n",
    "        audio_path = os.path.join(non_silence_audio, file)\n",
    "        audio, sr = librosa.load(audio_path)\n",
    "\n",
    "        min_samples = int(min_length * sr)\n",
    "\n",
    "        # Split the audio into segments\n",
    "        segments = []\n",
    "        segment_start = 0\n",
    "        while segment_start + min_samples < len(audio):\n",
    "            segment_end = segment_start + min_samples\n",
    "            segments.append(audio[segment_start:segment_end])\n",
    "            segment_start = segment_end\n",
    "\n",
    "        # Write each segment to a separate file\n",
    "        for i, segment in enumerate(segments):\n",
    "            segment_path = os.path.join(sliced_dir,f'segments_{audio_name}_{cnt}.wav')\n",
    "            cnt += 1\n",
    "            soundfile.write(segment_path, segment, sr)\n",
    "\n"
   ]
  }
 ],
 "metadata": {
  "language_info": {
   "name": "python"
  }
 },
 "nbformat": 4,
 "nbformat_minor": 2
}
