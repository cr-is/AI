{
 "cells": [
  {
   "cell_type": "markdown",
   "metadata": {},
   "source": [
    "pre trained models\n"
   ]
  },
  {
   "cell_type": "code",
   "execution_count": null,
   "metadata": {},
   "outputs": [],
   "source": [
    "import os\n",
    "if not os.path.exists(\"/\"):\n",
    "  os.makedirs(\"/content/drive/MyDrive/sovits4data/logs/44k\")\n",
    "\n",
    "!wget https://huggingface.co/justinjohn-03/so-vits-svc-4.0-v2-pretrained/resolve/main/D_0.pth -P /content/drive/MyDrive/sovits4data/logs/44k\n",
    "!wget https://huggingface.co/justinjohn-03/so-vits-svc-4.0-v2-pretrained/resolve/main/G_0.pth -P /content/drive/MyDrive/sovits4data/logs/44k"
   ]
  },
  {
   "cell_type": "markdown",
   "metadata": {},
   "source": [
    "cloning repo and installing dependencies"
   ]
  },
  {
   "cell_type": "code",
   "execution_count": null,
   "metadata": {},
   "outputs": [],
   "source": [
    "!git clone https://github.com/svc-develop-team/so-vits-svc -b 4.0\n",
    "!pip uninstall -y torchdata torchtext\n",
    "!pip install --upgrade pip setuptools numpy numba\n",
    "!pip install pyworld praat-parselmouth fairseq tensorboardX torchcrepe librosa==0.9.1\n",
    "!pip install torch==1.13.1+cu117 torchvision==0.14.1+cu117 torchaudio==0.13.1+cu117 --extra-index-url https://download.pytorch.org/whl/cu117\n",
    "\n",
    "%cd /content/so-vits-svc\n",
    "\n",
    "!curl -L https://github.com/openvpi/vocoders/releases/download/nsf-hifigan-v1/nsf_hifigan_20221211.zip -o /content/so-vits-svc/nsf_hifigan_20221211.zip\n",
    "!unzip nsf_hifigan_20221211.zip\n",
    "!rm -rf pretrain/nsf_hifigan\n",
    "!mv -v nsf_hifigan pretrain\n",
    "\n",
    "!curl -L https://ibm.ent.box.com/shared/static/z1wgl1stco8ffooyatzdwsqn2psd9lrr -o /content/so-vits-svc/hubert/checkpoint_best_legacy_500.pt"
   ]
  },
  {
   "cell_type": "markdown",
   "metadata": {},
   "source": [
    "writing files and paths"
   ]
  },
  {
   "cell_type": "code",
   "execution_count": null,
   "metadata": {},
   "outputs": [],
   "source": [
    "sovits_data_dir = \"/content/drive/MyDrive/sovits4data/\"  \n",
    "\n",
    "RAW_DIR = sovits_data_dir + \"raw/\"\n",
    "RESULTS_DIR = sovits_data_dir + \"results/\"\n",
    "FILELISTS_DIR = sovits_data_dir + \"filelists/\"\n",
    "CONFIGS_DIR = sovits_data_dir + \"configs/\"\n",
    "LOGS_DIR = sovits_data_dir + \"logs/44k/\"\n",
    "config_path = \"configs/config.json\"\n",
    "sync_raw_and_results = True \n",
    "if sync_raw_and_results:\n",
    "  !mkdir -p {RAW_DIR}\n",
    "  !mkdir -p {RESULTS_DIR}\n",
    "  !rm -rf /content/so-vits-svc/raw\n",
    "  !rm -rf /content/so-vits-svc/results\n",
    "  !ln -s {RAW_DIR} /content/so-vits-svc/raw\n",
    "  !ln -s {RESULTS_DIR} /content/so-vits-svc/results\n",
    "\n",
    "\n",
    "sync_configs_and_logs = True  \n",
    "if sync_configs_and_logs:\n",
    "  !mkdir -p {FILELISTS_DIR}\n",
    "  !mkdir -p {CONFIGS_DIR}\n",
    "  !mkdir -p {LOGS_DIR}\n",
    "  !rm -rf /content/so-vits-svc/filelists\n",
    "  !rm -rf /content/so-vits-svc/configs\n",
    "  !rm -rf /content/so-vits-svc/logs/44k\n",
    "  !ln -s {FILELISTS_DIR} /content/so-vits-svc/filelists\n",
    "  !ln -s {CONFIGS_DIR} /content/so-vits-svc/configs\n",
    "  !ln -s {LOGS_DIR} /content/so-vits-svc/logs/44k"
   ]
  },
  {
   "cell_type": "markdown",
   "metadata": {},
   "source": [
    "link dataset"
   ]
  },
  {
   "cell_type": "code",
   "execution_count": null,
   "metadata": {},
   "outputs": [],
   "source": [
    "# link dataset in dataset_raw\n",
    "!ln -s /content/drive/MyDrive/sliced/ /content/so-vits-svc/dataset_raw/"
   ]
  },
  {
   "cell_type": "markdown",
   "metadata": {},
   "source": [
    "resample\n"
   ]
  },
  {
   "cell_type": "code",
   "execution_count": null,
   "metadata": {},
   "outputs": [],
   "source": [
    "%cd /content/so-vits-svc\n",
    "!python resample.py"
   ]
  },
  {
   "cell_type": "markdown",
   "metadata": {},
   "source": [
    "generate config\n"
   ]
  },
  {
   "cell_type": "code",
   "execution_count": null,
   "metadata": {},
   "outputs": [],
   "source": [
    "\n",
    "%cd /content/so-vits-svc\n",
    "\n",
    "# speech_encoder = \"vec768l12\"\n",
    "\n",
    "# from pretrain.meta import download_dict\n",
    "# download_dict = download_dict()\n",
    "\n",
    "# url = download_dict[speech_encoder][\"url\"]\n",
    "# output = download_dict[speech_encoder][\"output\"]\n",
    "\n",
    "# import os\n",
    "# if not os.path.exists(output):\n",
    "#   !curl -L {url} -o {output}\n",
    "\n",
    "!python preprocess_flist_config.py #--speech_encoder={speech_encoder}"
   ]
  },
  {
   "cell_type": "markdown",
   "metadata": {},
   "source": [
    "generate hubert\n"
   ]
  },
  {
   "cell_type": "code",
   "execution_count": null,
   "metadata": {},
   "outputs": [],
   "source": [
    "%cd /content/so-vits-svc\n",
    "!python preprocess_hubert_f0.py"
   ]
  },
  {
   "cell_type": "markdown",
   "metadata": {},
   "source": [
    "saving"
   ]
  },
  {
   "cell_type": "code",
   "execution_count": null,
   "metadata": {},
   "outputs": [],
   "source": [
    "sovits_data_dir = \"/content/drive/MyDrive/sovits4data/\" \n",
    "\n",
    "!mkdir -p {sovits_data_dir}\n",
    "!zip -r dataset.zip /content/so-vits-svc/dataset\n",
    "!cp -vr dataset.zip \"{sovits_data_dir}\""
   ]
  }
 ],
 "metadata": {
  "language_info": {
   "name": "python"
  }
 },
 "nbformat": 4,
 "nbformat_minor": 2
}
